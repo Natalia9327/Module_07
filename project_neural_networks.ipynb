{
 "cells": [
  {
   "cell_type": "code",
   "execution_count": 77,
   "metadata": {
    "execution": {
     "iopub.execute_input": "2022-02-22T10:57:18.848932Z",
     "iopub.status.busy": "2022-02-22T10:57:18.848670Z",
     "iopub.status.idle": "2022-02-22T10:57:34.382577Z",
     "shell.execute_reply": "2022-02-22T10:57:34.381674Z",
     "shell.execute_reply.started": "2022-02-22T10:57:18.848903Z"
    }
   },
   "outputs": [],
   "source": [
    "!pip install git+https://github.com/mjkvaak/ImageDataAugmentor"
   ]
  },
  {
   "cell_type": "code",
   "execution_count": 78,
   "metadata": {
    "execution": {
     "iopub.execute_input": "2022-02-22T10:57:34.384269Z",
     "iopub.status.busy": "2022-02-22T10:57:34.383985Z",
     "iopub.status.idle": "2022-02-22T10:57:34.431131Z",
     "shell.execute_reply": "2022-02-22T10:57:34.430265Z",
     "shell.execute_reply.started": "2022-02-22T10:57:34.384238Z"
    }
   },
   "outputs": [],
   "source": [
    "import numpy as np\n",
    "import pandas as pd\n",
    "import matplotlib.pyplot as plt\n",
    "import seaborn as sns\n",
    "import pickle\n",
    "import zipfile\n",
    "import csv\n",
    "import sys\n",
    "import os\n",
    "\n",
    "\n",
    "import tensorflow as tf\n",
    "from tensorflow.keras.preprocessing import image\n",
    "from tensorflow.keras.preprocessing.image import ImageDataGenerator\n",
    "from tensorflow.keras.callbacks import LearningRateScheduler, ModelCheckpoint, ReduceLROnPlateau\n",
    "from tensorflow.keras.callbacks import Callback\n",
    "from tensorflow.keras.regularizers import l2\n",
    "from tensorflow.keras import optimizers\n",
    "from tensorflow.keras.models import Model\n",
    "from tensorflow.keras.applications.xception import Xception\n",
    "from tensorflow.keras.layers import *\n",
    "\n",
    "from ImageDataAugmentor.image_data_augmentor import *\n",
    "import albumentations\n",
    "\n",
    "from sklearn.model_selection import train_test_split, StratifiedKFold\n",
    "\n",
    "import PIL\n",
    "from PIL import ImageOps, ImageFilter\n",
    "#увеличим дефолтный размер графиков\n",
    "from pylab import rcParams\n",
    "rcParams['figure.figsize'] = 10, 5\n",
    "#графики в svg выглядят более четкими\n",
    "%config InlineBackend.figure_format = 'svg' \n",
    "%matplotlib inline\n",
    "\n",
    "print(os.listdir('/kaggle/input/sfcarclassif'))\n",
    "print('Python       :', sys.version.split('\\n')[0])\n",
    "print('Numpy        :', np.__version__)\n",
    "print('Tensorflow   :', tf.__version__)\n",
    "print('Keras        :', tf.keras.__version__)"
   ]
  },
  {
   "cell_type": "code",
   "execution_count": 79,
   "metadata": {
    "execution": {
     "iopub.execute_input": "2022-02-22T10:57:34.434181Z",
     "iopub.status.busy": "2022-02-22T10:57:34.433847Z",
     "iopub.status.idle": "2022-02-22T10:57:34.440633Z",
     "shell.execute_reply": "2022-02-22T10:57:34.439680Z",
     "shell.execute_reply.started": "2022-02-22T10:57:34.434136Z"
    }
   },
   "outputs": [],
   "source": [
    "# В setup выносим основные настройки: так удобнее их перебирать в дальнейшем.\n",
    "\n",
    "EPOCHS               = 4  # эпох на обучение\n",
    "BATCH_SIZE           = 16 # уменьшаем batch если сеть большая, иначе не поместится в память на GPU\n",
    "LR                   = 1e-4\n",
    "VAL_SPLIT            = 0.15 # сколько данных выделяем на тест = 15%\n",
    "\n",
    "CLASS_NUM            = 10  # количество классов в нашей задаче\n",
    "IMG_SIZE             = 224 # какого размера подаем изображения в сеть\n",
    "IMG_CHANNELS         = 3   # у RGB 3 канала\n",
    "input_shape          = (IMG_SIZE, IMG_SIZE, IMG_CHANNELS)\n",
    "\n",
    "DATA_PATH = '/kaggle/input/sfcarclassif'\n",
    "PATH = \"/kaggle/working\" # рабочая директория\n",
    "\n",
    "RANDOM_SEED = 7"
   ]
  },
  {
   "cell_type": "code",
   "execution_count": 80,
   "metadata": {
    "execution": {
     "iopub.execute_input": "2022-02-22T10:57:34.442060Z",
     "iopub.status.busy": "2022-02-22T10:57:34.441502Z",
     "iopub.status.idle": "2022-02-22T10:57:34.500370Z",
     "shell.execute_reply": "2022-02-22T10:57:34.499486Z",
     "shell.execute_reply.started": "2022-02-22T10:57:34.442026Z"
    }
   },
   "outputs": [],
   "source": [
    "train_df = pd.read_csv(DATA_PATH+\"/train.csv\")\n",
    "sample_submission = pd.read_csv(DATA_PATH+\"/sample-submission.csv\")\n",
    "train_df.head()"
   ]
  },
  {
   "cell_type": "code",
   "execution_count": 81,
   "metadata": {
    "execution": {
     "iopub.execute_input": "2022-02-22T10:57:34.503081Z",
     "iopub.status.busy": "2022-02-22T10:57:34.502044Z",
     "iopub.status.idle": "2022-02-22T10:57:34.527420Z",
     "shell.execute_reply": "2022-02-22T10:57:34.526481Z",
     "shell.execute_reply.started": "2022-02-22T10:57:34.503033Z"
    }
   },
   "outputs": [],
   "source": [
    "train_df.info()"
   ]
  },
  {
   "cell_type": "code",
   "execution_count": 82,
   "metadata": {
    "execution": {
     "iopub.execute_input": "2022-02-22T10:57:34.529574Z",
     "iopub.status.busy": "2022-02-22T10:57:34.529243Z",
     "iopub.status.idle": "2022-02-22T10:57:34.540046Z",
     "shell.execute_reply": "2022-02-22T10:57:34.539067Z",
     "shell.execute_reply.started": "2022-02-22T10:57:34.529531Z"
    }
   },
   "outputs": [],
   "source": [
    "train_df.Category.value_counts()"
   ]
  },
  {
   "cell_type": "code",
   "execution_count": 83,
   "metadata": {
    "execution": {
     "iopub.execute_input": "2022-02-22T10:57:34.541747Z",
     "iopub.status.busy": "2022-02-22T10:57:34.541513Z",
     "iopub.status.idle": "2022-02-22T10:57:34.851056Z",
     "shell.execute_reply": "2022-02-22T10:57:34.850251Z",
     "shell.execute_reply.started": "2022-02-22T10:57:34.541721Z"
    }
   },
   "outputs": [],
   "source": [
    "image = PIL.Image.open(DATA_PATH+'/train'+'/train/0/100380.jpg')\n",
    "imgplot = plt.imshow(image)\n",
    "plt.show()\n",
    "image.size"
   ]
  },
  {
   "cell_type": "code",
   "execution_count": 85,
   "metadata": {
    "execution": {
     "iopub.execute_input": "2022-02-22T10:57:34.861093Z",
     "iopub.status.busy": "2022-02-22T10:57:34.860819Z",
     "iopub.status.idle": "2022-02-22T10:57:34.870210Z",
     "shell.execute_reply": "2022-02-22T10:57:34.869390Z",
     "shell.execute_reply.started": "2022-02-22T10:57:34.861061Z"
    }
   },
   "outputs": [],
   "source": [
    "AUGMENTATIONS = albumentations.Compose([\n",
    "    albumentations.ShiftScaleRotate(\n",
    "        p=0.8, #apply these to 80% of the images\n",
    "        shift_limit=0.1, #translate by (-0.1%, 0.1%)\n",
    "        scale_limit=0.1, #zoom by (-0.1%, 0.1%)\n",
    "        rotate_limit=20, #rotate by (-20, 20)\n",
    "        border_mode=cv2.BORDER_CONSTANT, value = [0,0,0], #fill emptyness with (0,0,0)\n",
    "        ),\n",
    "    albumentations.Blur(blur_limit=1, p=0.2),\n",
    "    albumentations.ElasticTransform(alpha=0.1, sigma=5, alpha_affine=2,\n",
    "                                     border_mode=cv2.BORDER_CONSTANT, value = [0,0,0], #fill emptyness with (0,0,0)\n",
    "                                    ),\n",
    "    albumentations.ToFloat(max_value=255),\n",
    "])"
   ]
  },
  {
   "cell_type": "code",
   "execution_count": 86,
   "metadata": {
    "execution": {
     "iopub.execute_input": "2022-02-22T10:57:34.872290Z",
     "iopub.status.busy": "2022-02-22T10:57:34.871529Z",
     "iopub.status.idle": "2022-02-22T10:57:34.884514Z",
     "shell.execute_reply": "2022-02-22T10:57:34.883675Z",
     "shell.execute_reply.started": "2022-02-22T10:57:34.872246Z"
    }
   },
   "outputs": [],
   "source": [
    "train_datagen = ImageDataAugmentor(augment=AUGMENTATIONS, seed=RANDOM_SEED)\n",
    "\n",
    "test_datagen = ImageDataAugmentor(augment=albumentations.ToFloat(max_value=255), seed=RANDOM_SEED)"
   ]
  },
  {
   "cell_type": "code",
   "execution_count": 87,
   "metadata": {
    "execution": {
     "iopub.execute_input": "2022-02-22T10:57:34.886375Z",
     "iopub.status.busy": "2022-02-22T10:57:34.885897Z",
     "iopub.status.idle": "2022-02-22T10:57:38.932365Z",
     "shell.execute_reply": "2022-02-22T10:57:38.931647Z",
     "shell.execute_reply.started": "2022-02-22T10:57:34.886330Z"
    }
   },
   "outputs": [],
   "source": [
    "train_generator = train_datagen.flow_from_directory(\n",
    "    DATA_PATH+'/train/train/',      # директория где расположены папки с картинками \n",
    "    target_size=(IMG_SIZE, IMG_SIZE),\n",
    "    batch_size=BATCH_SIZE,\n",
    "    class_mode='categorical',\n",
    "    shuffle=True, seed=RANDOM_SEED,\n",
    "    subset='training') # set as training data\n",
    "\n",
    "test_generator = train_datagen.flow_from_directory(\n",
    "    DATA_PATH+'/train/train/',\n",
    "    target_size=(IMG_SIZE, IMG_SIZE),\n",
    "    batch_size=BATCH_SIZE,\n",
    "    class_mode='categorical',\n",
    "    shuffle=True, seed=RANDOM_SEED,\n",
    "    subset='validation') # set as validation data\n",
    "\n",
    "test_sub_generator = test_datagen.flow_from_dataframe( \n",
    "    dataframe=sample_submission,\n",
    "    directory=DATA_PATH+'/test/test_upload/',\n",
    "    x_col=\"Id\",\n",
    "    y_col=None,\n",
    "    shuffle=False,\n",
    "    class_mode=None,\n",
    "    seed=RANDOM_SEED,\n",
    "    target_size=(IMG_SIZE, IMG_SIZE),\n",
    "    batch_size=BATCH_SIZE,)"
   ]
  },
  {
   "cell_type": "code",
   "execution_count": 88,
   "metadata": {
    "execution": {
     "iopub.execute_input": "2022-02-22T10:57:38.933874Z",
     "iopub.status.busy": "2022-02-22T10:57:38.933518Z",
     "iopub.status.idle": "2022-02-22T10:57:40.428836Z",
     "shell.execute_reply": "2022-02-22T10:57:40.428150Z",
     "shell.execute_reply.started": "2022-02-22T10:57:38.933845Z"
    }
   },
   "outputs": [],
   "source": [
    "base_model = Xception(weights='imagenet', include_top=False, input_shape = input_shape)"
   ]
  },
  {
   "cell_type": "code",
   "execution_count": 89,
   "metadata": {
    "execution": {
     "iopub.execute_input": "2022-02-22T10:57:40.430327Z",
     "iopub.status.busy": "2022-02-22T10:57:40.430006Z",
     "iopub.status.idle": "2022-02-22T10:57:40.501243Z",
     "shell.execute_reply": "2022-02-22T10:57:40.500290Z",
     "shell.execute_reply.started": "2022-02-22T10:57:40.430299Z"
    }
   },
   "outputs": [],
   "source": [
    "base_model.summary()"
   ]
  },
  {
   "cell_type": "code",
   "execution_count": 90,
   "metadata": {
    "execution": {
     "iopub.execute_input": "2022-02-22T10:57:40.503169Z",
     "iopub.status.busy": "2022-02-22T10:57:40.502866Z",
     "iopub.status.idle": "2022-02-22T10:57:40.507877Z",
     "shell.execute_reply": "2022-02-22T10:57:40.507235Z",
     "shell.execute_reply.started": "2022-02-22T10:57:40.503125Z"
    }
   },
   "outputs": [],
   "source": [
    "learning_rate_reduction = ReduceLROnPlateau(monitor='val_acc', \n",
    "                                            patience=3, \n",
    "                                            verbose=1, \n",
    "                                            factor=0.5, \n",
    "                                            min_lr=0.00001)"
   ]
  },
  {
   "cell_type": "code",
   "execution_count": 91,
   "metadata": {
    "execution": {
     "iopub.execute_input": "2022-02-22T10:57:40.509183Z",
     "iopub.status.busy": "2022-02-22T10:57:40.508954Z",
     "iopub.status.idle": "2022-02-22T10:57:40.564379Z",
     "shell.execute_reply": "2022-02-22T10:57:40.563484Z",
     "shell.execute_reply.started": "2022-02-22T10:57:40.509154Z"
    }
   },
   "outputs": [],
   "source": [
    "x = base_model.output\n",
    "x = GlobalAveragePooling2D()(x)\n",
    "# let's add a fully-connected layer\n",
    "x = Dense(256, activation='relu')(x)\n",
    "x = Dropout(0.25)(x)\n",
    "# and a logistic layer -- let's say we have 10 classes\n",
    "predictions = Dense(CLASS_NUM, activation='softmax')(x)\n",
    "\n",
    "# this is the model we will train\n",
    "model = Model(inputs=base_model.input, outputs=predictions)\n",
    "model.compile(loss=\"categorical_crossentropy\", optimizer=optimizers.Adam(learning_rate=LR), metrics=[\"accuracy\"])"
   ]
  },
  {
   "cell_type": "code",
   "execution_count": 92,
   "metadata": {
    "execution": {
     "iopub.execute_input": "2022-02-22T10:57:40.565901Z",
     "iopub.status.busy": "2022-02-22T10:57:40.565677Z",
     "iopub.status.idle": "2022-02-22T10:57:40.625355Z",
     "shell.execute_reply": "2022-02-22T10:57:40.624631Z",
     "shell.execute_reply.started": "2022-02-22T10:57:40.565872Z"
    }
   },
   "outputs": [],
   "source": [
    "model.summary()"
   ]
  },
  {
   "cell_type": "code",
   "execution_count": 93,
   "metadata": {
    "execution": {
     "iopub.execute_input": "2022-02-22T10:57:40.626914Z",
     "iopub.status.busy": "2022-02-22T10:57:40.626710Z",
     "iopub.status.idle": "2022-02-22T10:57:40.632014Z",
     "shell.execute_reply": "2022-02-22T10:57:40.631222Z",
     "shell.execute_reply.started": "2022-02-22T10:57:40.626888Z"
    }
   },
   "outputs": [],
   "source": [
    "checkpoint = ModelCheckpoint('best_model.hdf5' , monitor = ['val_accuracy'] , verbose = 1  , mode = 'max')\n",
    "callbacks_list = [checkpoint]"
   ]
  },
  {
   "cell_type": "code",
   "execution_count": 94,
   "metadata": {
    "execution": {
     "iopub.execute_input": "2022-02-22T10:57:40.633813Z",
     "iopub.status.busy": "2022-02-22T10:57:40.633478Z",
     "iopub.status.idle": "2022-02-22T16:12:02.610110Z",
     "shell.execute_reply": "2022-02-22T16:12:02.608072Z",
     "shell.execute_reply.started": "2022-02-22T10:57:40.633769Z"
    }
   },
   "outputs": [],
   "source": [
    "history = model.fit(\n",
    "        train_generator,\n",
    "        steps_per_epoch = len(train_generator),\n",
    "        validation_data = test_generator, \n",
    "        validation_steps = len(test_generator),\n",
    "        epochs = EPOCHS,\n",
    "        callbacks = [learning_rate_reduction]\n",
    ")"
   ]
  },
  {
   "cell_type": "code",
   "execution_count": 95,
   "metadata": {
    "execution": {
     "iopub.execute_input": "2022-02-22T16:12:02.618988Z",
     "iopub.status.busy": "2022-02-22T16:12:02.618483Z",
     "iopub.status.idle": "2022-02-22T16:12:04.310086Z",
     "shell.execute_reply": "2022-02-22T16:12:04.309328Z",
     "shell.execute_reply.started": "2022-02-22T16:12:02.618932Z"
    }
   },
   "outputs": [],
   "source": [
    "model.save('kaggle/working/model_last.hdf5')\n",
    "model.load_weights('best_model.hdf5')"
   ]
  },
  {
   "cell_type": "code",
   "execution_count": 96,
   "metadata": {
    "execution": {
     "iopub.execute_input": "2022-02-22T16:12:04.311848Z",
     "iopub.status.busy": "2022-02-22T16:12:04.311476Z",
     "iopub.status.idle": "2022-02-22T16:12:04.478952Z",
     "shell.execute_reply": "2022-02-22T16:12:04.477459Z",
     "shell.execute_reply.started": "2022-02-22T16:12:04.311818Z"
    }
   },
   "outputs": [],
   "source": [
    "scores = model.evaluate_generator(test_generator, steps=len(test_generator), verbose=1)\n",
    "print(\"Accuracy: %.2f%%\" % (scores[1]*100))"
   ]
  },
  {
   "cell_type": "code",
   "execution_count": 97,
   "metadata": {
    "execution": {
     "iopub.execute_input": "2022-02-22T16:13:41.454062Z",
     "iopub.status.busy": "2022-02-22T16:13:41.453735Z",
     "iopub.status.idle": "2022-02-22T16:13:41.491174Z",
     "shell.execute_reply": "2022-02-22T16:13:41.490173Z",
     "shell.execute_reply.started": "2022-02-22T16:13:41.454029Z"
    }
   },
   "outputs": [],
   "source": [
    "acc = history.history['accuracy']\n",
    "val_acc = history.history['val_accuracy']\n",
    "loss = history.history['loss']\n",
    "val_loss = history.history['val_loss']\n",
    " \n",
    "epochs = range(len(acc))\n",
    " \n",
    "plt.plot(epochs, acc, 'b', label='Training acc')\n",
    "plt.plot(epochs, val_acc, 'r', label='Validation acc')\n",
    "plt.title('Training and validation accuracy')\n",
    "plt.legend()\n",
    " \n",
    "plt.figure()\n",
    " \n",
    "plt.plot(epochs, loss, 'b', label='Training loss')\n",
    "plt.plot(epochs, val_loss, 'r', label='Validation loss')\n",
    "plt.title('Training and validation loss')\n",
    "plt.legend()\n",
    " \n",
    "plt.show()"
   ]
  },
  {
   "cell_type": "code",
   "execution_count": 98,
   "metadata": {
    "execution": {
     "iopub.execute_input": "2022-02-22T16:13:51.363597Z",
     "iopub.status.busy": "2022-02-22T16:13:51.362955Z",
     "iopub.status.idle": "2022-02-22T16:13:51.373403Z",
     "shell.execute_reply": "2022-02-22T16:13:51.372292Z",
     "shell.execute_reply.started": "2022-02-22T16:13:51.363563Z"
    }
   },
   "outputs": [],
   "source": [
    "test_sub_generator.samples"
   ]
  },
  {
   "cell_type": "code",
   "execution_count": 99,
   "metadata": {
    "execution": {
     "iopub.execute_input": "2022-02-22T16:13:58.499024Z",
     "iopub.status.busy": "2022-02-22T16:13:58.498729Z",
     "iopub.status.idle": "2022-02-22T16:23:27.360898Z",
     "shell.execute_reply": "2022-02-22T16:23:27.359927Z",
     "shell.execute_reply.started": "2022-02-22T16:13:58.498991Z"
    }
   },
   "outputs": [],
   "source": [
    "test_sub_generator.reset()\n",
    "predictions = model.predict_generator(test_sub_generator, steps=len(test_sub_generator), verbose=1) \n",
    "predictions = np.argmax(predictions, axis=-1) #multiple categories\n",
    "label_map = (train_generator.class_indices)\n",
    "label_map = dict((v,k) for k,v in label_map.items()) #flip k,v\n",
    "predictions = [label_map[k] for k in predictions]"
   ]
  },
  {
   "cell_type": "code",
   "execution_count": 100,
   "metadata": {
    "execution": {
     "iopub.execute_input": "2022-02-22T16:24:23.160514Z",
     "iopub.status.busy": "2022-02-22T16:24:23.160214Z",
     "iopub.status.idle": "2022-02-22T16:24:23.199280Z",
     "shell.execute_reply": "2022-02-22T16:24:23.198154Z",
     "shell.execute_reply.started": "2022-02-22T16:24:23.160484Z"
    }
   },
   "outputs": [],
   "source": [
    "filenames_with_dir=test_sub_generator.filenames\n",
    "submission = pd.DataFrame({'Id':filenames_with_dir, 'Category':predictions}, columns=['Id', 'Category'])\n",
    "submission['Id'] = submission['Id'].replace('test_upload/','')\n",
    "submission.to_csv('submission.csv', index=False)\n",
    "print('Save submit')"
   ]
  },
  {
   "cell_type": "code",
   "execution_count": null,
   "metadata": {
    "execution": {
     "iopub.status.busy": "2022-02-22T16:12:04.489412Z",
     "iopub.status.idle": "2022-02-22T16:12:04.490304Z",
     "shell.execute_reply": "2022-02-22T16:12:04.490057Z",
     "shell.execute_reply.started": "2022-02-22T16:12:04.490029Z"
    }
   },
   "outputs": [],
   "source": [
    "submission.head()"
   ]
  },
  {
   "cell_type": "code",
   "execution_count": null,
   "metadata": {},
   "outputs": [],
   "source": []
  }
 ],
 "metadata": {
  "kernelspec": {
   "display_name": "Python 3",
   "language": "python",
   "name": "python3"
  },
  "language_info": {
   "codemirror_mode": {
    "name": "ipython",
    "version": 3
   },
   "file_extension": ".py",
   "mimetype": "text/x-python",
   "name": "python",
   "nbconvert_exporter": "python",
   "pygments_lexer": "ipython3",
   "version": "3.8.8"
  }
 },
 "nbformat": 4,
 "nbformat_minor": 4
}
